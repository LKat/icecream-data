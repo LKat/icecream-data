{
 "cells": [
  {
   "cell_type": "markdown",
   "metadata": {},
   "source": [
    "Imagine we sell icecreams in the local park. We want to know how many ice-creams we are going to sell each day because we need to buy enough icecream and cones for everyone without having too much waste left over at the end of the day. We know how many icecreams we sold on different days in the past - can we use this data to predict how many we might sell in the future."
   ]
  },
  {
   "cell_type": "markdown",
   "metadata": {},
   "source": [
    "First we need some libraries for python.\n",
    "- Pandas allows us to use tables for our data.\n",
    "- Scikit-learn (sklearn) is one of the main python libraries for many different machine learning models.\n",
    "- Matplotlib allows us to make graphs of our data."
   ]
  },
  {
   "cell_type": "code",
   "execution_count": 1,
   "metadata": {
    "collapsed": true
   },
   "outputs": [],
   "source": [
    "import pandas\n",
    "from sklearn.linear_model import LinearRegression\n",
    "import matplotlib.pyplot as plt\n"
   ]
  },
  {
   "cell_type": "markdown",
   "metadata": {},
   "source": [
    "In order to see how well our model performs, we will want to train the model on some of our data and then test it on data our model has not yet seen. In this case, the train and test data have been split into two different files already.\n"
   ]
  },
  {
   "cell_type": "code",
   "execution_count": 2,
   "metadata": {
    "collapsed": true
   },
   "outputs": [],
   "source": [
    "icream_sales_train_data = pandas.read_csv(r\"TableSalesPredictCSV.csv\")"
   ]
  },
  {
   "cell_type": "code",
   "execution_count": 3,
   "metadata": {},
   "outputs": [
    {
     "data": {
      "text/html": [
       "<div>\n",
       "<style>\n",
       "    .dataframe thead tr:only-child th {\n",
       "        text-align: right;\n",
       "    }\n",
       "\n",
       "    .dataframe thead th {\n",
       "        text-align: left;\n",
       "    }\n",
       "\n",
       "    .dataframe tbody tr th {\n",
       "        vertical-align: top;\n",
       "    }\n",
       "</style>\n",
       "<table border=\"1\" class=\"dataframe\">\n",
       "  <thead>\n",
       "    <tr style=\"text-align: right;\">\n",
       "      <th></th>\n",
       "      <th>Day of the week</th>\n",
       "      <th>Will it rain?</th>\n",
       "      <th>Temperature</th>\n",
       "      <th>Local funfair</th>\n",
       "      <th>Price of icecream at local supermarket</th>\n",
       "      <th>Price of catfood at local supermarket</th>\n",
       "      <th>Icecreams sold</th>\n",
       "    </tr>\n",
       "  </thead>\n",
       "  <tbody>\n",
       "    <tr>\n",
       "      <th>0</th>\n",
       "      <td>Monday</td>\n",
       "      <td>Yes</td>\n",
       "      <td>21</td>\n",
       "      <td>No</td>\n",
       "      <td>1.2</td>\n",
       "      <td>3.0</td>\n",
       "      <td>42</td>\n",
       "    </tr>\n",
       "    <tr>\n",
       "      <th>1</th>\n",
       "      <td>Monday</td>\n",
       "      <td>Yes</td>\n",
       "      <td>23</td>\n",
       "      <td>No</td>\n",
       "      <td>1.5</td>\n",
       "      <td>3.2</td>\n",
       "      <td>53</td>\n",
       "    </tr>\n",
       "    <tr>\n",
       "      <th>2</th>\n",
       "      <td>Monday</td>\n",
       "      <td>No</td>\n",
       "      <td>25</td>\n",
       "      <td>No</td>\n",
       "      <td>1.5</td>\n",
       "      <td>3.4</td>\n",
       "      <td>62</td>\n",
       "    </tr>\n",
       "    <tr>\n",
       "      <th>3</th>\n",
       "      <td>Monday</td>\n",
       "      <td>Yes</td>\n",
       "      <td>21</td>\n",
       "      <td>No</td>\n",
       "      <td>1.7</td>\n",
       "      <td>3.6</td>\n",
       "      <td>46</td>\n",
       "    </tr>\n",
       "    <tr>\n",
       "      <th>4</th>\n",
       "      <td>Tuesday</td>\n",
       "      <td>No</td>\n",
       "      <td>22</td>\n",
       "      <td>No</td>\n",
       "      <td>1.2</td>\n",
       "      <td>3.0</td>\n",
       "      <td>56</td>\n",
       "    </tr>\n",
       "  </tbody>\n",
       "</table>\n",
       "</div>"
      ],
      "text/plain": [
       "  Day of the week Will it rain?  Temperature Local funfair  \\\n",
       "0          Monday           Yes           21            No   \n",
       "1          Monday           Yes           23            No   \n",
       "2          Monday            No           25            No   \n",
       "3          Monday           Yes           21            No   \n",
       "4         Tuesday            No           22            No   \n",
       "\n",
       "   Price of icecream at local supermarket  \\\n",
       "0                                     1.2   \n",
       "1                                     1.5   \n",
       "2                                     1.5   \n",
       "3                                     1.7   \n",
       "4                                     1.2   \n",
       "\n",
       "   Price of catfood at local supermarket  Icecreams sold  \n",
       "0                                    3.0              42  \n",
       "1                                    3.2              53  \n",
       "2                                    3.4              62  \n",
       "3                                    3.6              46  \n",
       "4                                    3.0              56  "
      ]
     },
     "execution_count": 3,
     "metadata": {},
     "output_type": "execute_result"
    }
   ],
   "source": [
    "# The .head command allows us to see the first few rows of our data in the table.\n",
    "icream_sales_train_data.head()"
   ]
  },
  {
   "cell_type": "markdown",
   "metadata": {},
   "source": [
    "Data Analysis"
   ]
  },
  {
   "cell_type": "markdown",
   "metadata": {},
   "source": [
    "The first thing we tend to do with any new data project is use graphs and some simple statistics to look at whether we can see a relationship between the data we have (features) and what we want to predict (target).\n",
    "\n",
    "For example, if there is a funfair on, do we sell more icecream?"
   ]
  },
  {
   "cell_type": "code",
   "execution_count": 4,
   "metadata": {},
   "outputs": [
    {
     "data": {
      "image/png": "[encoded data removed]",
      "text/plain": [
       "<matplotlib.figure.Figure at 0x1fb4b6b7470>"
      ]
     },
     "metadata": {},
     "output_type": "display_data"
    }
   ],
   "source": [
    "plt.bar(icream_sales_train_data[\"Local funfair\"], icream_sales_train_data[\"Icecreams sold\"])\n",
    "plt.show()"
   ]
  },
  {
   "cell_type": "markdown",
   "metadata": {},
   "source": [
    "Yes - it looks like when there is a funfair on we sell more icecream.\n",
    "\n",
    "This is possibly unsurprising - the local funfair probably means more people coming to the park so more people to buy icecream.\n",
    "\n",
    "How about the temperature?"
   ]
  },
  {
   "cell_type": "code",
   "execution_count": 5,
   "metadata": {},
   "outputs": [
    {
     "data": {
      "image/png": "[encoded data removed]",
      "text/plain": [
       "<matplotlib.figure.Figure at 0x1fb4b665780>"
      ]
     },
     "metadata": {},
     "output_type": "display_data"
    }
   ],
   "source": [
    "plt.scatter(icream_sales_train_data[\"Temperature\"], icream_sales_train_data[\"Icecreams sold\"])\n",
    "plt.xlabel(\"Temperature\")\n",
    "plt.ylabel(\"Icecreams sold\")\n",
    "\n",
    "plt.show()"
   ]
  },
  {
   "cell_type": "markdown",
   "metadata": {},
   "source": [
    "So again, we can see a pattern - if it's hotter, we tend to sell more icecream. Maybe this will be useful in our model as well. How about day of the week? We could do this using another bar graph but just comparing the averages doesn't always tell us enough. \n",
    "We can look at the spread of our values using something called a boxplot. A boxplot, takes all our values and lines them up in increasing order. Then we see a line (in this case in orange) where the middle value sits and a box around the middle half of our values. The lowest value and highest value are also shown."
   ]
  },
  {
   "cell_type": "code",
   "execution_count": 6,
   "metadata": {
    "collapsed": true
   },
   "outputs": [],
   "source": [
    "# To draw a boxplot, we need to provide a list of data points for each day of the week. We can pull these out of\n",
    "# the table by selecting all the rows where 'Day of the week' is the day we want and then selecting \n",
    "# the 'Icecreams sold' column\n",
    "icecreams_monday = icream_sales_train_data.loc[icream_sales_train_data[\"Day of the week\"] == \"Monday\"][\"Icecreams sold\"]\n",
    "icecreams_tuesday = icream_sales_train_data.loc[icream_sales_train_data[\"Day of the week\"] == \"Tuesday\"][\"Icecreams sold\"]\n",
    "icecreams_wednesday = icream_sales_train_data.loc[icream_sales_train_data[\"Day of the week\"] == \"Wednesday\"][\"Icecreams sold\"]\n",
    "icecreams_thursday = icream_sales_train_data.loc[icream_sales_train_data[\"Day of the week\"] == \"Thursday\"][\"Icecreams sold\"]\n",
    "icecreams_friday = icream_sales_train_data.loc[icream_sales_train_data[\"Day of the week\"] == \"Friday\"][\"Icecreams sold\"]\n",
    "icecreams_saturday = icream_sales_train_data.loc[icream_sales_train_data[\"Day of the week\"] == \"Saturday\"][\"Icecreams sold\"]\n",
    "icecreams_sunday = icream_sales_train_data.loc[icream_sales_train_data[\"Day of the week\"] == \"Sunday\"][\"Icecreams sold\"]"
   ]
  },
  {
   "cell_type": "code",
   "execution_count": 8,
   "metadata": {},
   "outputs": [
    {
     "data": {
      "image/png": "[encoded data removed]",
      "text/plain": [
       "<matplotlib.figure.Figure at 0x1fb4d8e7ac8>"
      ]
     },
     "metadata": {},
     "output_type": "display_data"
    }
   ],
   "source": [
    "plt.boxplot([icecreams_monday, icecreams_tuesday, icecreams_wednesday, icecreams_thursday, icecreams_friday, icecreams_saturday, icecreams_sunday], labels = [\"Monday\", \"Tuesday\", \"Wednesday\", \"Thursday\", \"Friday\", \"Saturday\", \"Sunday\"])\n",
    "plt.show()"
   ]
  },
  {
   "cell_type": "markdown",
   "metadata": {},
   "source": [
    "So it looks like, in general, we sell more icecream at the weekend. Although we do also seem to sell lots of icecream on a Thursday as well...\n",
    "\n",
    "We also have some data on the price of catfood in the local supermarket? Do we think this makes a difference to how many icecreams we will sell?"
   ]
  },
  {
   "cell_type": "code",
   "execution_count": 9,
   "metadata": {},
   "outputs": [
    {
     "data": {
      "image/png": "[encoded data removed]",
      "text/plain": [
       "<matplotlib.figure.Figure at 0x1fb4d8b6208>"
      ]
     },
     "metadata": {},
     "output_type": "display_data"
    }
   ],
   "source": [
    "plt.scatter(icream_sales_train_data[\"Price of catfood at local supermarket\"], icream_sales_train_data[\"Icecreams sold\"])\n",
    "plt.xlabel(\"Temperature\")\n",
    "plt.ylabel(\"Icecreams sold\")\n",
    "\n",
    "plt.show()"
   ]
  },
  {
   "cell_type": "markdown",
   "metadata": {},
   "source": [
    "Not really any relationship here. And we probably wouldn't expect one. Why would the price of catfood in the local supermarket affect how many icecreams we sell?\n",
    "\n",
    "So how abour price of icecream in the local supermarket? We might think if icecream is really cheap in the local supermarket then people might choose to buy it there instead of from our icecream stand."
   ]
  },
  {
   "cell_type": "code",
   "execution_count": 10,
   "metadata": {},
   "outputs": [
    {
     "data": {
      "image/png": "[encoded data removed]",
      "text/plain": [
       "<matplotlib.figure.Figure at 0x1fb4d70ff98>"
      ]
     },
     "metadata": {},
     "output_type": "display_data"
    }
   ],
   "source": [
    "plt.scatter(icream_sales_train_data[\"Price of icecream at local supermarket\"], icream_sales_train_data[\"Icecreams sold\"])\n",
    "plt.xlabel(\"Temperature\")\n",
    "plt.ylabel(\"Icecreams sold\")\n",
    "\n",
    "plt.show()"
   ]
  },
  {
   "cell_type": "markdown",
   "metadata": {},
   "source": [
    "We don't see a strong relationship here either. Maybe we will leave this out for now as well."
   ]
  },
  {
   "cell_type": "markdown",
   "metadata": {},
   "source": [
    "Data Preparation"
   ]
  },
  {
   "cell_type": "markdown",
   "metadata": {},
   "source": [
    "Now that we know which features we want, we need to get them into the right format for our modeling. Models understand numbers but, for example, day of the week is categorical (one of several categories). We can convert categories into numbers by using one hot encoding. However, in this case, we may also want to just split the days into whether the day is a weekend or not."
   ]
  },
  {
   "cell_type": "markdown",
   "metadata": {},
   "source": [
    "To do this, we create another column in our table and map the 'Day of the week' column to 1 if the day is a Saturday or Sunday or 0 otherwise."
   ]
  },
  {
   "cell_type": "code",
   "execution_count": 11,
   "metadata": {
    "collapsed": true
   },
   "outputs": [],
   "source": [
    "icream_sales_train_data[\"isWeekend\"] = icream_sales_train_data[\"Day of the week\"].map(lambda x: 1 if x == \"Saturday\" or x == \"Sunday\" else 0)\n"
   ]
  },
  {
   "cell_type": "markdown",
   "metadata": {},
   "source": [
    "We can do the same with 'Will it rain?'\n"
   ]
  },
  {
   "cell_type": "code",
   "execution_count": 12,
   "metadata": {
    "collapsed": true
   },
   "outputs": [],
   "source": [
    "icream_sales_train_data[\"rains\"] = icream_sales_train_data[\"Will it rain?\"].map(lambda x: 1 if x == \"Yes\" else 0)\n"
   ]
  },
  {
   "cell_type": "code",
   "execution_count": 13,
   "metadata": {},
   "outputs": [
    {
     "data": {
      "text/html": [
       "<div>\n",
       "<style>\n",
       "    .dataframe thead tr:only-child th {\n",
       "        text-align: right;\n",
       "    }\n",
       "\n",
       "    .dataframe thead th {\n",
       "        text-align: left;\n",
       "    }\n",
       "\n",
       "    .dataframe tbody tr th {\n",
       "        vertical-align: top;\n",
       "    }\n",
       "</style>\n",
       "<table border=\"1\" class=\"dataframe\">\n",
       "  <thead>\n",
       "    <tr style=\"text-align: right;\">\n",
       "      <th></th>\n",
       "      <th>Day of the week</th>\n",
       "      <th>Will it rain?</th>\n",
       "      <th>Temperature</th>\n",
       "      <th>Local funfair</th>\n",
       "      <th>Price of icecream at local supermarket</th>\n",
       "      <th>Price of catfood at local supermarket</th>\n",
       "      <th>Icecreams sold</th>\n",
       "      <th>isWeekend</th>\n",
       "      <th>rains</th>\n",
       "    </tr>\n",
       "  </thead>\n",
       "  <tbody>\n",
       "    <tr>\n",
       "      <th>0</th>\n",
       "      <td>Monday</td>\n",
       "      <td>Yes</td>\n",
       "      <td>21</td>\n",
       "      <td>No</td>\n",
       "      <td>1.2</td>\n",
       "      <td>3.0</td>\n",
       "      <td>42</td>\n",
       "      <td>0</td>\n",
       "      <td>1</td>\n",
       "    </tr>\n",
       "    <tr>\n",
       "      <th>1</th>\n",
       "      <td>Monday</td>\n",
       "      <td>Yes</td>\n",
       "      <td>23</td>\n",
       "      <td>No</td>\n",
       "      <td>1.5</td>\n",
       "      <td>3.2</td>\n",
       "      <td>53</td>\n",
       "      <td>0</td>\n",
       "      <td>1</td>\n",
       "    </tr>\n",
       "    <tr>\n",
       "      <th>2</th>\n",
       "      <td>Monday</td>\n",
       "      <td>No</td>\n",
       "      <td>25</td>\n",
       "      <td>No</td>\n",
       "      <td>1.5</td>\n",
       "      <td>3.4</td>\n",
       "      <td>62</td>\n",
       "      <td>0</td>\n",
       "      <td>0</td>\n",
       "    </tr>\n",
       "    <tr>\n",
       "      <th>3</th>\n",
       "      <td>Monday</td>\n",
       "      <td>Yes</td>\n",
       "      <td>21</td>\n",
       "      <td>No</td>\n",
       "      <td>1.7</td>\n",
       "      <td>3.6</td>\n",
       "      <td>46</td>\n",
       "      <td>0</td>\n",
       "      <td>1</td>\n",
       "    </tr>\n",
       "    <tr>\n",
       "      <th>4</th>\n",
       "      <td>Tuesday</td>\n",
       "      <td>No</td>\n",
       "      <td>22</td>\n",
       "      <td>No</td>\n",
       "      <td>1.2</td>\n",
       "      <td>3.0</td>\n",
       "      <td>56</td>\n",
       "      <td>0</td>\n",
       "      <td>0</td>\n",
       "    </tr>\n",
       "  </tbody>\n",
       "</table>\n",
       "</div>"
      ],
      "text/plain": [
       "  Day of the week Will it rain?  Temperature Local funfair  \\\n",
       "0          Monday           Yes           21            No   \n",
       "1          Monday           Yes           23            No   \n",
       "2          Monday            No           25            No   \n",
       "3          Monday           Yes           21            No   \n",
       "4         Tuesday            No           22            No   \n",
       "\n",
       "   Price of icecream at local supermarket  \\\n",
       "0                                     1.2   \n",
       "1                                     1.5   \n",
       "2                                     1.5   \n",
       "3                                     1.7   \n",
       "4                                     1.2   \n",
       "\n",
       "   Price of catfood at local supermarket  Icecreams sold  isWeekend  rains  \n",
       "0                                    3.0              42          0      1  \n",
       "1                                    3.2              53          0      1  \n",
       "2                                    3.4              62          0      0  \n",
       "3                                    3.6              46          0      1  \n",
       "4                                    3.0              56          0      0  "
      ]
     },
     "execution_count": 13,
     "metadata": {},
     "output_type": "execute_result"
    }
   ],
   "source": [
    "icream_sales_train_data.head()"
   ]
  },
  {
   "cell_type": "markdown",
   "metadata": {},
   "source": [
    "Modeling the data"
   ]
  },
  {
   "cell_type": "markdown",
   "metadata": {},
   "source": [
    "Now we can try and build a model that predicts the number of icreams sold based on our features of 'Temperature', 'isWeekend' and 'rains'."
   ]
  },
  {
   "cell_type": "code",
   "execution_count": 14,
   "metadata": {
    "collapsed": true
   },
   "outputs": [],
   "source": [
    "\n",
    "X = icream_sales_train_data[[\"Temperature\", \"isWeekend\", \"rains\"]]\n",
    "\n",
    "Y = icream_sales_train_data[\"Icecreams sold\"]\n",
    "\n",
    "reg = LinearRegression().fit(X, Y)"
   ]
  },
  {
   "cell_type": "markdown",
   "metadata": {},
   "source": [
    "How well does this model predict our sales?"
   ]
  },
  {
   "cell_type": "code",
   "execution_count": 15,
   "metadata": {},
   "outputs": [
    {
     "data": {
      "text/plain": [
       "0.8986244801047434"
      ]
     },
     "execution_count": 15,
     "metadata": {},
     "output_type": "execute_result"
    }
   ],
   "source": [
    "reg.score(X, Y)"
   ]
  },
  {
   "cell_type": "markdown",
   "metadata": {},
   "source": [
    "This is a measure of our accuracy, with 0 being not accurate at all and 1 being completely accurate. So getting nearly 0.9 is not bad. But, this is using the data that we trained the model on - we expect it to be accurate. How about the data we 'held out' as test data?"
   ]
  },
  {
   "cell_type": "code",
   "execution_count": 21,
   "metadata": {
    "collapsed": true
   },
   "outputs": [],
   "source": [
    "test_data_icecream_sales = pandas.read_csv(r\"TableSalesPredictTestDataCSV.csv\")"
   ]
  },
  {
   "cell_type": "code",
   "execution_count": 17,
   "metadata": {},
   "outputs": [
    {
     "data": {
      "text/html": [
       "<div>\n",
       "<style>\n",
       "    .dataframe thead tr:only-child th {\n",
       "        text-align: right;\n",
       "    }\n",
       "\n",
       "    .dataframe thead th {\n",
       "        text-align: left;\n",
       "    }\n",
       "\n",
       "    .dataframe tbody tr th {\n",
       "        vertical-align: top;\n",
       "    }\n",
       "</style>\n",
       "<table border=\"1\" class=\"dataframe\">\n",
       "  <thead>\n",
       "    <tr style=\"text-align: right;\">\n",
       "      <th></th>\n",
       "      <th>Day of the week</th>\n",
       "      <th>Will it rain?</th>\n",
       "      <th>Temperature</th>\n",
       "      <th>Local funfair</th>\n",
       "      <th>Price of icecream at local supermarket</th>\n",
       "      <th>Price of catfood at local supermarket</th>\n",
       "      <th>Icecreams sold</th>\n",
       "    </tr>\n",
       "  </thead>\n",
       "  <tbody>\n",
       "    <tr>\n",
       "      <th>0</th>\n",
       "      <td>Monday</td>\n",
       "      <td>Yes</td>\n",
       "      <td>17</td>\n",
       "      <td>No</td>\n",
       "      <td>1.5</td>\n",
       "      <td>4.5</td>\n",
       "      <td>38</td>\n",
       "    </tr>\n",
       "    <tr>\n",
       "      <th>1</th>\n",
       "      <td>Monday</td>\n",
       "      <td>No</td>\n",
       "      <td>29</td>\n",
       "      <td>No</td>\n",
       "      <td>1.2</td>\n",
       "      <td>4.0</td>\n",
       "      <td>73</td>\n",
       "    </tr>\n",
       "    <tr>\n",
       "      <th>2</th>\n",
       "      <td>Tuesday</td>\n",
       "      <td>Yes</td>\n",
       "      <td>32</td>\n",
       "      <td>No</td>\n",
       "      <td>1.2</td>\n",
       "      <td>4.2</td>\n",
       "      <td>73</td>\n",
       "    </tr>\n",
       "    <tr>\n",
       "      <th>3</th>\n",
       "      <td>Tuesday</td>\n",
       "      <td>No</td>\n",
       "      <td>28</td>\n",
       "      <td>No</td>\n",
       "      <td>1.7</td>\n",
       "      <td>4.5</td>\n",
       "      <td>70</td>\n",
       "    </tr>\n",
       "    <tr>\n",
       "      <th>4</th>\n",
       "      <td>Wednesday</td>\n",
       "      <td>Yes</td>\n",
       "      <td>21</td>\n",
       "      <td>No</td>\n",
       "      <td>1.2</td>\n",
       "      <td>4.0</td>\n",
       "      <td>48</td>\n",
       "    </tr>\n",
       "    <tr>\n",
       "      <th>5</th>\n",
       "      <td>Wednesday</td>\n",
       "      <td>Yes</td>\n",
       "      <td>22</td>\n",
       "      <td>No</td>\n",
       "      <td>1.5</td>\n",
       "      <td>4.2</td>\n",
       "      <td>49</td>\n",
       "    </tr>\n",
       "    <tr>\n",
       "      <th>6</th>\n",
       "      <td>Thursday</td>\n",
       "      <td>Yes</td>\n",
       "      <td>22</td>\n",
       "      <td>No</td>\n",
       "      <td>1.2</td>\n",
       "      <td>4.2</td>\n",
       "      <td>50</td>\n",
       "    </tr>\n",
       "    <tr>\n",
       "      <th>7</th>\n",
       "      <td>Thursday</td>\n",
       "      <td>No</td>\n",
       "      <td>24</td>\n",
       "      <td>No</td>\n",
       "      <td>1.7</td>\n",
       "      <td>4.5</td>\n",
       "      <td>61</td>\n",
       "    </tr>\n",
       "    <tr>\n",
       "      <th>8</th>\n",
       "      <td>Friday</td>\n",
       "      <td>Yes</td>\n",
       "      <td>27</td>\n",
       "      <td>No</td>\n",
       "      <td>1.5</td>\n",
       "      <td>4.0</td>\n",
       "      <td>60</td>\n",
       "    </tr>\n",
       "    <tr>\n",
       "      <th>9</th>\n",
       "      <td>Friday</td>\n",
       "      <td>Yes</td>\n",
       "      <td>29</td>\n",
       "      <td>Yes</td>\n",
       "      <td>1.2</td>\n",
       "      <td>4.0</td>\n",
       "      <td>74</td>\n",
       "    </tr>\n",
       "    <tr>\n",
       "      <th>10</th>\n",
       "      <td>Saturday</td>\n",
       "      <td>No</td>\n",
       "      <td>23</td>\n",
       "      <td>No</td>\n",
       "      <td>1.2</td>\n",
       "      <td>4.5</td>\n",
       "      <td>64</td>\n",
       "    </tr>\n",
       "    <tr>\n",
       "      <th>11</th>\n",
       "      <td>Saturday</td>\n",
       "      <td>No</td>\n",
       "      <td>25</td>\n",
       "      <td>Yes</td>\n",
       "      <td>1.7</td>\n",
       "      <td>4.2</td>\n",
       "      <td>77</td>\n",
       "    </tr>\n",
       "    <tr>\n",
       "      <th>12</th>\n",
       "      <td>Sunday</td>\n",
       "      <td>No</td>\n",
       "      <td>25</td>\n",
       "      <td>No</td>\n",
       "      <td>1.5</td>\n",
       "      <td>4.0</td>\n",
       "      <td>69</td>\n",
       "    </tr>\n",
       "    <tr>\n",
       "      <th>13</th>\n",
       "      <td>Sunday</td>\n",
       "      <td>Yes</td>\n",
       "      <td>26</td>\n",
       "      <td>Yes</td>\n",
       "      <td>1.5</td>\n",
       "      <td>4.5</td>\n",
       "      <td>70</td>\n",
       "    </tr>\n",
       "  </tbody>\n",
       "</table>\n",
       "</div>"
      ],
      "text/plain": [
       "   Day of the week Will it rain?  Temperature Local funfair  \\\n",
       "0           Monday           Yes           17            No   \n",
       "1           Monday            No           29            No   \n",
       "2          Tuesday           Yes           32            No   \n",
       "3          Tuesday            No           28            No   \n",
       "4        Wednesday           Yes           21            No   \n",
       "5        Wednesday           Yes           22            No   \n",
       "6         Thursday           Yes           22            No   \n",
       "7         Thursday            No           24            No   \n",
       "8           Friday           Yes           27            No   \n",
       "9           Friday           Yes           29           Yes   \n",
       "10        Saturday            No           23            No   \n",
       "11        Saturday            No           25           Yes   \n",
       "12          Sunday            No           25            No   \n",
       "13          Sunday           Yes           26           Yes   \n",
       "\n",
       "    Price of icecream at local supermarket  \\\n",
       "0                                      1.5   \n",
       "1                                      1.2   \n",
       "2                                      1.2   \n",
       "3                                      1.7   \n",
       "4                                      1.2   \n",
       "5                                      1.5   \n",
       "6                                      1.2   \n",
       "7                                      1.7   \n",
       "8                                      1.5   \n",
       "9                                      1.2   \n",
       "10                                     1.2   \n",
       "11                                     1.7   \n",
       "12                                     1.5   \n",
       "13                                     1.5   \n",
       "\n",
       "    Price of catfood at local supermarket  Icecreams sold  \n",
       "0                                     4.5              38  \n",
       "1                                     4.0              73  \n",
       "2                                     4.2              73  \n",
       "3                                     4.5              70  \n",
       "4                                     4.0              48  \n",
       "5                                     4.2              49  \n",
       "6                                     4.2              50  \n",
       "7                                     4.5              61  \n",
       "8                                     4.0              60  \n",
       "9                                     4.0              74  \n",
       "10                                    4.5              64  \n",
       "11                                    4.2              77  \n",
       "12                                    4.0              69  \n",
       "13                                    4.5              70  "
      ]
     },
     "execution_count": 17,
     "metadata": {},
     "output_type": "execute_result"
    }
   ],
   "source": [
    "test_data_icecream_sales"
   ]
  },
  {
   "cell_type": "markdown",
   "metadata": {},
   "source": [
    "First, we need to map our features to numbers like we did with the training data."
   ]
  },
  {
   "cell_type": "code",
   "execution_count": 18,
   "metadata": {
    "collapsed": true
   },
   "outputs": [],
   "source": [
    "test_data_icecream_sales[\"isWeekend\"] = test_data_icecream_sales[\"Day of the week\"].map(lambda x: 1 if x == \"Saturday\" or x == \"Sunday\" else 0)\n",
    "test_data_icecream_sales[\"rains\"] = test_data_icecream_sales[\"Will it rain?\"].map(lambda x: 1 if x == \"Yes\" else 0)\n"
   ]
  },
  {
   "cell_type": "markdown",
   "metadata": {},
   "source": [
    "Now we can predict how many icecreams we would expect to sell for each row of our test data using our model"
   ]
  },
  {
   "cell_type": "code",
   "execution_count": 19,
   "metadata": {},
   "outputs": [
    {
     "data": {
      "text/plain": [
       "array([36.42617453, 75.53558172, 76.59681849, 72.85753879, 47.13834625,\n",
       "       49.81638918, 49.81638918, 62.14536706, 63.20660384, 68.5626897 ,\n",
       "       66.83923791, 72.19532377, 72.19532377, 67.90047469])"
      ]
     },
     "execution_count": 19,
     "metadata": {},
     "output_type": "execute_result"
    }
   ],
   "source": [
    "reg.predict(test_data_icecream_sales[[\"Temperature\", \"isWeekend\", \"rains\"]])"
   ]
  },
  {
   "cell_type": "markdown",
   "metadata": {},
   "source": [
    "Let's see how accurate that is"
   ]
  },
  {
   "cell_type": "code",
   "execution_count": 20,
   "metadata": {},
   "outputs": [
    {
     "data": {
      "text/plain": [
       "0.9369487665490891"
      ]
     },
     "execution_count": 20,
     "metadata": {},
     "output_type": "execute_result"
    }
   ],
   "source": [
    "reg.score(test_data_icecream_sales[[\"Temperature\", \"isWeekend\", \"rains\"]], test_data_icecream_sales[\"Icecreams sold\"])"
   ]
  },
  {
   "cell_type": "markdown",
   "metadata": {},
   "source": [
    "But wait, we forgot to include the funfair... This can be included in the same way as whether it was raining. Does this make our model better or worse?"
   ]
  }
 ],
 "metadata": {
  "kernelspec": {
   "display_name": "Python 3",
   "language": "python",
   "name": "python3"
  },
  "language_info": {
   "codemirror_mode": {
    "name": "ipython",
    "version": 3
   },
   "file_extension": ".py",
   "mimetype": "text/x-python",
   "name": "python",
   "nbconvert_exporter": "python",
   "pygments_lexer": "ipython3",
   "version": "3.6.3"
  }
 },
 "nbformat": 4,
 "nbformat_minor": 2
}
